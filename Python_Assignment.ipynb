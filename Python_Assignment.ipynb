{
 "cells": [
  {
   "cell_type": "markdown",
   "id": "8322c0eb-72bd-42d1-944a-810a8b9c22c9",
   "metadata": {
    "tags": []
   },
   "source": [
    "#                                                                     Python_Assignment"
   ]
  },
  {
   "cell_type": "code",
   "execution_count": 2,
   "id": "9b127154-8f31-498d-adbf-f5782cd80f16",
   "metadata": {},
   "outputs": [],
   "source": [
    "#Question_no.1: Explain the key features of Python that take it a popular choice for programming.\n",
    "\n",
    "#Answer: Features in Python\n",
    "## 1. Free and Open Source\n",
    "#Python language is freely available at the official website and it is open-source, this means that source code is also                                                                                                                     \n",
    "#available to the public. So you can download it, use it as well as share it. \n",
    "\n",
    "## 2. Easy to code\n",
    "#Python is a high-level programming language. Python is very easy to learn the language as compared to other languages \n",
    "#like C, C#, Javascript, Java, etc. It is very easy to code in the Python language and anybody can learn Python basics \n",
    "#in a few hours or days. It is also a developer-friendly language.\n",
    "\n",
    "## 3. Easy to Read\n",
    "#As you will see, learning Python is quite simple. As was already established, Python’s syntax is really straightforward.\n",
    "#The code block is defined by the indentations rather than by semicolons or brackets.\n",
    "\n",
    "## 4. High-Level Language\n",
    "#Python is a high-level language. When we write programs in Python, we do not need to remember the system architecture,\n",
    "#nor do we need to manage the memory.\n",
    "\n",
    "## 5. Large Community Support\n",
    "#Python has gained popularity over the years. Our questions are constantly answered by the enormous StackOverflow community.\n",
    "# These websites have already provided answers to many questions about Python, so Python users can consult them as needed.\n",
    "    \n",
    "## 6. Large Standard Library \n",
    "#Python has a large standard library that provides a rich set of modules and functions so you do not have to write your own\n",
    "#code for every single thing. There are many libraries present in Python such as regular expressions, unit-testing, web\n",
    "#browsers, etc.\n",
    "\n",
    "## 7.  Allocating Memory Dynamically\n",
    "#In Python, the variable data type does not need to be specified. The memory is automatically allocated to a variable at \n",
    "#runtime when it is given a value. Developers do not need to write int y = 18 if the integer value 15 is set to y. You \n",
    "#may just type y=18.\n"
   ]
  },
  {
   "cell_type": "code",
   "execution_count": 4,
   "id": "33fb40de-ceef-44e4-bbbc-7b52739d4005",
   "metadata": {},
   "outputs": [
    {
     "name": "stdout",
     "output_type": "stream",
     "text": [
      "True\n",
      "False\n",
      "None\n"
     ]
    }
   ],
   "source": [
    "#Question_no.2: Describe the role of predefined keywords in Python and provide examples of how they are used in a program.\n",
    "\n",
    "#Answer: Role of Predefined Keyworrds in Python\n",
    "##Python Keywords are some predefined and reserved words in Python that have special meanings. Keywords are used to define\n",
    "#the syntax of the coding. The keyword cannot be used as an identifier, function, or variable name.In Python, there is an \n",
    "#inbuilt keyword module that provides an iskeyword() function that can be used to check whether a given string is a valid\n",
    "#keyword or not. Furthermore, we can check the name of the keywords in Python by using the kwlist attribute of the keyword module.\n",
    "\n",
    "#List of Python Keywords:\n",
    "# 1.True, False- They both are used in logical expressions and represent the boolean values 'True' and ' False'.\n",
    "# 2.None- It is used to represent that there is no value or it is null.\n",
    "# 3.and-It will return 'True' when both the operands are 'True'.\n",
    "# 4.or-It will return 'True' when at least one of the operand is 'True'.\n",
    "# 5.not-It will return the opposite of the operand.\n",
    "# 6.in-It checks that whether a specified value is present in the given sequence.\n",
    "# 7.is-It compares the identity of objects.>>(==)Symbol\n",
    "# 8.if-It will execute a code block if the condition is 'True'.\n",
    "# 9.elif-It is the short form of 'else if'. It will put another alternative condition for checking if the 'if' condition is 'False'.\n",
    "# 10.else-It will execute a code block if none of the conditions are 'True'.\n",
    "# 11.for-It iterates over the elements of a specified sequence.\n",
    "# 12.while-It will execute a code block as long as the condition is 'True'.\n",
    "# 13.break-It is used for terminating the loop before completion.\n",
    "# 14.continue-It is used for skipping the current iteration and continue with the next one.\n",
    "# 15.else-It will execute a code block when the has completed without a 'break' statement.\n",
    "\n",
    "## Examples Of Keywords:\n",
    "# 1. True,False > 2.None\n",
    "print(True)# 1 is the value of True.\n",
    "print(False)# 0 is the value of False.\n",
    "print(None)# None shows value is null or empty."
   ]
  },
  {
   "cell_type": "code",
   "execution_count": 6,
   "id": "66ebfc99-73ee-44ab-a504-dec45617b8df",
   "metadata": {},
   "outputs": [
    {
     "name": "stdout",
     "output_type": "stream",
     "text": [
      "False\n",
      "True\n",
      "False\n",
      "True\n",
      "True\n"
     ]
    }
   ],
   "source": [
    "# 3.and > 4.or > 5.not > 6.in > 7.is\n",
    "a = True\n",
    "b = False\n",
    "print(a and b)# 3 it will give true when both situation is satisfied.\n",
    "print(a or b)# 4 it will give true when one side is true.\n",
    "print(not a)# 5 it show not 'a' means it navigating to 'b'. \n",
    "print(5 in [1, 2, 3, 4, 5])# 6 it check specified value present or not and in return give value true if present.\n",
    "print(5 == 5)# 7 it compares no. equals to each other or not."
   ]
  },
  {
   "cell_type": "code",
   "execution_count": 10,
   "id": "f827ef60-c6cc-4dbc-8900-0704dbc092f1",
   "metadata": {},
   "outputs": [
    {
     "name": "stdout",
     "output_type": "stream",
     "text": [
      "x is less than 5\n"
     ]
    }
   ],
   "source": [
    "# 8.if > 9.elif > 10.else\n",
    "x = 4 # Change the value to see conditions.\n",
    "if x > 5:# 8 it will execute code of block if condition is true.It will print this line (x is greater than 5).\n",
    "    print(\"x is greater than 5\")\n",
    "elif x == 5:# 9 (if block) is false it will execute elif block if condition is true . it will print this line (x is equal to 5). \n",
    "    print(\"x is equal to 5\")\n",
    "else:# 10 if elif condition is false it will execute else block and print (x is less than 5).\n",
    "    print(\"x is less than 5\")"
   ]
  },
  {
   "cell_type": "code",
   "execution_count": 12,
   "id": "afc1e1e0-ac9e-4880-9a96-131c80614732",
   "metadata": {},
   "outputs": [
    {
     "name": "stdout",
     "output_type": "stream",
     "text": [
      "a\n",
      "b\n",
      "c\n",
      "d\n"
     ]
    }
   ],
   "source": [
    "# 11.for \n",
    "box1=(\"a\",\"b\")\n",
    "box2=(\"c\",\"d\")\n",
    "choc_bag=(box1,box2)\n",
    "\n",
    "for box in choc_bag:# 11 it iterates over elements of a specified sequence (to know inner value ).\n",
    "    for choc in box:\n",
    "        print(choc)"
   ]
  },
  {
   "cell_type": "code",
   "execution_count": 16,
   "id": "2ce2f8cb-280a-47f8-988d-75e8cd0ce35d",
   "metadata": {},
   "outputs": [
    {
     "name": "stdout",
     "output_type": "stream",
     "text": [
      "2\n",
      "3\n",
      "4\n"
     ]
    }
   ],
   "source": [
    "# 12.while > 13.break\n",
    "n=7\n",
    "i=1\n",
    "while i < n:#it will execute the code as long as condition is true.  \n",
    "    i=i+1\n",
    "    if i == 5:\n",
    "        break# it will break the while loop at  specific value written in it.\n",
    "    print(i)\n",
    "else:\n",
    "    print(\"sucess\")"
   ]
  },
  {
   "cell_type": "code",
   "execution_count": 21,
   "id": "b1efce64-f708-4bf5-9e78-def138c22bcc",
   "metadata": {},
   "outputs": [
    {
     "name": "stdout",
     "output_type": "stream",
     "text": [
      "1\n",
      "zaid\n",
      "pwskills\n",
      "not work\n"
     ]
    }
   ],
   "source": [
    "# 14.continue > 15.else\n",
    "\n",
    "l=[1,2,\"zaid\",\"pwskills\"]\n",
    "for i in l:\n",
    "    if i==2:\n",
    "        continue# it prints all value accept (2).continue skips the value but don't break the statement.\n",
    "    print(i)\n",
    "else:\n",
    "    print(\"not work\")"
   ]
  },
  {
   "cell_type": "code",
   "execution_count": 22,
   "id": "3aaa2364-34c8-46f1-9860-1db542196fbe",
   "metadata": {},
   "outputs": [
    {
     "data": {
      "text/plain": [
       "[1, 2, 3, 4, 'zaid', (3+5j)]"
      ]
     },
     "execution_count": 22,
     "metadata": {},
     "output_type": "execute_result"
    }
   ],
   "source": [
    "#Question_no.3: Compare and contrast mutable and immutable objects in Python with examples.\n",
    "\n",
    "#Answer: Mutable\t                                                        Immutable\n",
    "#The objects can be modified after the creation as well.\t                    Objects can not be modified after the creation of the objects.\n",
    "#Classes that are mutable are not considered final.                         \tClasses that are immutable are considered final.\n",
    "#Thread unsafe.                                                  \t            Thread-safe.\n",
    "#Classes are not made final for the mutable objects.\t                        Classes are made final for the immutable objects.\n",
    "#Example: Lists, Dicts, Sets, User-Defined Classes, Dictionaries, etc.\t     Example: int, float, bool, string, Unicode, tuple, Numbers, etc.\n",
    "\n",
    "#Mutable\n",
    "list_cont=[1,2,3,4,\"zaid\",3+5j]\n",
    "list_cont\n"
   ]
  },
  {
   "cell_type": "code",
   "execution_count": 29,
   "id": "2e23a9fa-71c9-4ef9-b31e-1d2e5bfa91d6",
   "metadata": {},
   "outputs": [
    {
     "data": {
      "text/plain": [
       "[1, 2, 3, 4, 'pwskills', (3+5j)]"
      ]
     },
     "execution_count": 29,
     "metadata": {},
     "output_type": "execute_result"
    }
   ],
   "source": [
    "list_cont[4]=\"pwskills\"# Hence Proved list is a mutable object because objects in lists can modified after creation.\n",
    "list_cont"
   ]
  },
  {
   "cell_type": "code",
   "execution_count": 40,
   "id": "ca1a5861-3893-49f0-b069-2e8cf98cd17e",
   "metadata": {},
   "outputs": [
    {
     "name": "stdout",
     "output_type": "stream",
     "text": [
      "{'name': 'Ram', 'age': 37}\n",
      "{'name': 'Ram', 'age': 37}\n"
     ]
    }
   ],
   "source": [
    "#Mutable\n",
    "my_dict = {\"name\": \"Ram\", \"age\": 25}\n",
    "new_dict = my_dict\n",
    "new_dict[\"age\"] = 37\n",
    "\n",
    "print(my_dict)   \n",
    "print(new_dict)"
   ]
  },
  {
   "cell_type": "code",
   "execution_count": 41,
   "id": "a1ededad-5776-4ef7-86ad-a4813151f03f",
   "metadata": {},
   "outputs": [
    {
     "name": "stdout",
     "output_type": "stream",
     "text": [
      "{1, 2, 3, 4}\n",
      "{1, 2, 3, 4}\n"
     ]
    }
   ],
   "source": [
    "# Mutable\n",
    "my_set = {1, 2, 3}\n",
    "new_set = my_set\n",
    "new_set.add(4)\n",
    "\n",
    "print(my_set)    \n",
    "print(new_set)"
   ]
  },
  {
   "cell_type": "code",
   "execution_count": 42,
   "id": "ed053fa2-7902-46f2-b727-f48b40ed92e7",
   "metadata": {},
   "outputs": [
    {
     "ename": "TypeError",
     "evalue": "'tuple' object does not support item assignment",
     "output_type": "error",
     "traceback": [
      "\u001b[0;31m---------------------------------------------------------------------------\u001b[0m",
      "\u001b[0;31mTypeError\u001b[0m                                 Traceback (most recent call last)",
      "Cell \u001b[0;32mIn[42], line 5\u001b[0m\n\u001b[1;32m      1\u001b[0m \u001b[38;5;66;03m##Immutable\u001b[39;00m\n\u001b[1;32m      2\u001b[0m \u001b[38;5;66;03m# tuples are immutable \u001b[39;00m\n\u001b[1;32m      4\u001b[0m tuple1 \u001b[38;5;241m=\u001b[39m (\u001b[38;5;241m0\u001b[39m, \u001b[38;5;241m1\u001b[39m, \u001b[38;5;241m2\u001b[39m, \u001b[38;5;241m3\u001b[39m) \n\u001b[0;32m----> 5\u001b[0m \u001b[43mtuple1\u001b[49m\u001b[43m[\u001b[49m\u001b[38;5;241;43m0\u001b[39;49m\u001b[43m]\u001b[49m \u001b[38;5;241m=\u001b[39m \u001b[38;5;241m4\u001b[39m\n\u001b[1;32m      6\u001b[0m \u001b[38;5;28mprint\u001b[39m(tuple1) \n",
      "\u001b[0;31mTypeError\u001b[0m: 'tuple' object does not support item assignment"
     ]
    }
   ],
   "source": [
    "##Immutable\n",
    "# tuples are immutable \n",
    "  \n",
    "tuple1 = (0, 1, 2, 3) \n",
    "tuple1[0] = 4\n",
    "print(tuple1) "
   ]
  },
  {
   "cell_type": "code",
   "execution_count": 43,
   "id": "0ba50e16-cab0-4c1d-9c26-e5b32188d331",
   "metadata": {},
   "outputs": [
    {
     "ename": "TypeError",
     "evalue": "'str' object does not support item assignment",
     "output_type": "error",
     "traceback": [
      "\u001b[0;31m---------------------------------------------------------------------------\u001b[0m",
      "\u001b[0;31mTypeError\u001b[0m                                 Traceback (most recent call last)",
      "Cell \u001b[0;32mIn[43], line 4\u001b[0m\n\u001b[1;32m      1\u001b[0m \u001b[38;5;66;03m# strings are immutable \u001b[39;00m\n\u001b[1;32m      3\u001b[0m message \u001b[38;5;241m=\u001b[39m \u001b[38;5;124m\"\u001b[39m\u001b[38;5;124mWelcome to GeeksforGeeks\u001b[39m\u001b[38;5;124m\"\u001b[39m\n\u001b[0;32m----> 4\u001b[0m \u001b[43mmessage\u001b[49m\u001b[43m[\u001b[49m\u001b[38;5;241;43m0\u001b[39;49m\u001b[43m]\u001b[49m \u001b[38;5;241m=\u001b[39m \u001b[38;5;124m'\u001b[39m\u001b[38;5;124mp\u001b[39m\u001b[38;5;124m'\u001b[39m\n\u001b[1;32m      5\u001b[0m \u001b[38;5;28mprint\u001b[39m(message)\n",
      "\u001b[0;31mTypeError\u001b[0m: 'str' object does not support item assignment"
     ]
    }
   ],
   "source": [
    "# strings are immutable \n",
    "\n",
    "message = \"Welcome to GeeksforGeeks\"\n",
    "message[0] = 'p'\n",
    "print(message)"
   ]
  },
  {
   "cell_type": "code",
   "execution_count": 44,
   "id": "e6fcc5ab-9527-42e4-8d30-562deed6c45f",
   "metadata": {},
   "outputs": [
    {
     "ename": "TypeError",
     "evalue": "'float' object does not support item assignment",
     "output_type": "error",
     "traceback": [
      "\u001b[0;31m---------------------------------------------------------------------------\u001b[0m",
      "\u001b[0;31mTypeError\u001b[0m                                 Traceback (most recent call last)",
      "Cell \u001b[0;32mIn[44], line 3\u001b[0m\n\u001b[1;32m      1\u001b[0m \u001b[38;5;66;03m# Float are immutable \u001b[39;00m\n\u001b[1;32m      2\u001b[0m \u001b[38;5;28mfloat\u001b[39m\u001b[38;5;241m=\u001b[39m\u001b[38;5;241m4.6\u001b[39m\n\u001b[0;32m----> 3\u001b[0m \u001b[38;5;28;43mfloat\u001b[39;49m\u001b[43m[\u001b[49m\u001b[38;5;241;43m0\u001b[39;49m\u001b[43m]\u001b[49m\u001b[38;5;241m=\u001b[39m\u001b[38;5;241m1\u001b[39m\n",
      "\u001b[0;31mTypeError\u001b[0m: 'float' object does not support item assignment"
     ]
    }
   ],
   "source": [
    "# Float are immutable \n",
    "float=4.6\n",
    "float[0]=1"
   ]
  },
  {
   "cell_type": "code",
   "execution_count": 45,
   "id": "f2efb48c-3c87-40f8-a307-405c629ce094",
   "metadata": {},
   "outputs": [
    {
     "name": "stdout",
     "output_type": "stream",
     "text": [
      "a + b :  31\n",
      "a - b :  11\n",
      "a * b :  210\n",
      "a / b :  2.1\n",
      "a % b :  1\n",
      "a ** b :  16679880978201\n",
      "a // b :  2\n"
     ]
    }
   ],
   "source": [
    "#Question_no.4:  Discuss the different types of operators in Python and provide examples of how they are used.\n",
    "\n",
    "#Answer: Types of Python Operators\n",
    "#Python language supports various types of operators, which are:\n",
    "# 1. Arithmetic Operators\n",
    "# 2. Comparison (Relational) Operators\n",
    "# 3. Assignment Operators\n",
    "# 4. Logical Operators\n",
    "# 5. Bitwise Operators\n",
    "# 6. Membership Operators\n",
    "# 7. Identity Operators\n",
    "\n",
    "# 1. Python Arithmetic Operators\n",
    "#Mathematical operations including addition, subtraction, multiplication, and division are commonly carried out using Python arithmetic operators.\n",
    "#In addition to the standard arithmetic operators, there are operators for modulus, exponentiation, and floor division.\n",
    "#They are compatible with integers, variables, and expressions.\n",
    " \n",
    "  #Operator \tName\t                   Example\n",
    "#     +\t          Addition  \t         10 + 20 = 30\n",
    "#      -\t         Subtraction\t         20 – 10 = 10\n",
    "#     *\t        Multiplication\t         10 * 20 = 200\n",
    "#     /\t         Division\t             20 / 10 = 2\n",
    "#     %\t        Modulus                \t 22 % 10 = 2\n",
    "#     **       \tExponent\t             4**2 = 16\n",
    "#    //      \tFloor Division\t         9//2 = 4  \n",
    "\n",
    "# 1. Arithmetic Operators\n",
    "a = 21\n",
    "b = 10\n",
    "# Addition\n",
    "print (\"a + b : \", a + b)\n",
    "# Subtraction\n",
    "print (\"a - b : \", a - b)\n",
    "# Multiplication\n",
    "print (\"a * b : \", a * b)\n",
    "# Division\n",
    "print (\"a / b : \", a / b)\n",
    "# Modulus\n",
    "print (\"a % b : \", a % b)\n",
    "# Exponent\n",
    "print (\"a ** b : \", a ** b)\n",
    "# Floor Division\n",
    "print (\"a // b : \", a // b)"
   ]
  },
  {
   "cell_type": "code",
   "execution_count": 46,
   "id": "b29bd489-fd06-4709-9abb-45ab4d3bc027",
   "metadata": {},
   "outputs": [
    {
     "name": "stdout",
     "output_type": "stream",
     "text": [
      "a == b :  False\n",
      "a != b :  True\n",
      "a > b :  False\n",
      "a < b :  True\n",
      "a >= b :  False\n",
      "a <= b :  True\n"
     ]
    }
   ],
   "source": [
    "# 2. Python Comparison Operators\n",
    "#To compare two values, Python comparison operators are needed.\n",
    "#Based on the comparison, they produce a Boolean value (True or False).\n",
    "#Operator\tName\t                        Example\n",
    "#    ==\t   Equal\t                 4 == 5 is not true.\n",
    "#    !=\t  Not Equal               \t 4 != 5 is true.\n",
    "#     > \tGreater Than\t             4 > 5 is not true\n",
    "#     <\tLess Than\t                 4 < 5 is true\n",
    "#    >=\tGreater than or Equal to\t 4 >= 5 is not true.\n",
    "#    <=\tLess than or Equal to\t     4 <= 5 is true.\n",
    "\n",
    "a = 4\n",
    "b = 5\n",
    "# Equal\n",
    "print (\"a == b : \", a == b)\n",
    "# Not Equal\n",
    "print (\"a != b : \", a != b)\n",
    "# Greater Than\n",
    "print (\"a > b : \", a > b)\n",
    "# Less Than\n",
    "print (\"a < b : \", a < b)\n",
    "# Greater Than or Equal to\n",
    "print (\"a >= b : \", a >= b)\n",
    "# Less Than or Equal to\n",
    "print (\"a <= b : \", a <= b)"
   ]
  },
  {
   "cell_type": "code",
   "execution_count": 47,
   "id": "b5b7613e-a44e-49f6-9549-8a5b93cbc85d",
   "metadata": {},
   "outputs": [
    {
     "name": "stdout",
     "output_type": "stream",
     "text": [
      "a += 5 :  15\n",
      "a -= 5 :  10\n",
      "a *= 5 :  50\n",
      "a /= 5 :  10.0\n",
      "a %= 3 :  1.0\n",
      "a **= 2 :  1.0\n",
      "a //= 3 :  0.0\n"
     ]
    }
   ],
   "source": [
    "# 3. Python Assignment Operators\n",
    "#Python assignment operators are used to assign values to variables in Python.\n",
    "#The single equal symbol (=) is the most fundamental assignment operator.\n",
    "#It assigns the value on the operator's right side to the variable on the operator's left side.\n",
    "#Operator\tName\t                           Example\n",
    "#    =\tAssignment Operator\t                   a = 10\n",
    "#    +=\tAddition Assignment            \ta += 5 (Same as a = a + 5)\n",
    "#    -=\tSubtraction Assignment\t        a -= 5 (Same as a = a - 5)\n",
    "#    *=\tMultiplication Assignment\t    a *= 5 (Same as a = a * 5)\n",
    "#    /=\tDivision Assignment\t            a /= 5 (Same as a = a / 5)\n",
    "#    %=\tRemainder Assignment\t        a %= 5 (Same as a = a % 5)\n",
    "#   **=\tExponent Assignment         \ta **= 2 (Same as a = a ** 2)\n",
    "#   //=\tFloor Division Assignment\t    a //= 3 (Same as a = a // 3)\n",
    "    \n",
    "# Assignment Operator\n",
    "a = 10\n",
    "# Addition Assignment\n",
    "a += 5\n",
    "print (\"a += 5 : \", a)\n",
    "# Subtraction Assignment\n",
    "a -= 5\n",
    "print (\"a -= 5 : \", a)\n",
    "# Multiplication Assignment\n",
    "a *= 5\n",
    "print (\"a *= 5 : \", a)\n",
    "# Division Assignment\n",
    "a /= 5\n",
    "print (\"a /= 5 : \",a)\n",
    "# Remainder Assignment\n",
    "a %= 3\n",
    "print (\"a %= 3 : \", a)\n",
    "# Exponent Assignment\n",
    "a **= 2\n",
    "print (\"a **= 2 : \", a)\n",
    "# Floor Division Assignment\n",
    "a //= 3\n",
    "print (\"a //= 3 : \", a)    "
   ]
  },
  {
   "cell_type": "code",
   "execution_count": 48,
   "id": "ee5d1f4a-55ac-4f39-952a-4776d47ddfee",
   "metadata": {},
   "outputs": [
    {
     "name": "stdout",
     "output_type": "stream",
     "text": [
      "a & b :  12\n",
      "a | b :  61\n",
      "a ^ b :  49\n",
      "~a :  -61\n",
      "a << 2 :  240\n",
      "a >> 2 :  15\n"
     ]
    }
   ],
   "source": [
    "#4. Python Bitwise Operators\n",
    "#Python bitwise operators execute operations on individual bits of binary integers.\n",
    "#They work with integer binary representations, performing logical operations on each bit location.\n",
    "#Python includes various bitwise operators, such as AND (&), OR (|), NOT (), XOR (), left shift (), and right shift (>>).\n",
    "#Operator\tName\t                   Example\n",
    "#   &\tBinary AND\t                 Sets each bit to 1 if both bits are 1\n",
    "#   |\tBinary OR\t                 Sets each bit to 1 if one of the two bits is 1\n",
    "#   ^\tBinary XOR\t                 Sets each bit to 1 if only one of two bits is 1\n",
    "#   ~\tBinary Ones Complement\t     Inverts all the bits\n",
    "#   <<\tBinary Left Shift\t         Shift left by pushing zeros in from the right and let the leftmost bits fall off\n",
    "#   >>\tBinary Right Shift\t         Shift right by pushing copies of the leftmost bit in from the left, and let the rightmost bits fall off\n",
    "\n",
    "a = 60 # 60 = 0011 1100\n",
    "b = 13 # 13 = 0000 1101\n",
    "# Binary AND\n",
    "c = a & b # 12 = 0000 1100\n",
    "print (\"a & b : \", c)\n",
    "# Binary OR\n",
    "c = a | b # 61 = 0011 1101\n",
    "print (\"a | b : \", c)\n",
    "# Binary XOR\n",
    "c = a ^ b # 49 = 0011 0001\n",
    "print (\"a ^ b : \", c)\n",
    "# Binary Ones Complement\n",
    "c = ~a; # -61 = 1100 0011\n",
    "print (\"~a : \", c)\n",
    "# Binary Left Shift\n",
    "c = a << 2; # 240 = 1111 0000\n",
    "print (\"a << 2 : \", c)\n",
    "# Binary Right Shift\n",
    "c = a >> 2; # 15 = 0000 1111\n",
    "print (\"a >> 2 : \", c)"
   ]
  },
  {
   "cell_type": "code",
   "execution_count": 49,
   "id": "a025f2c1-49fe-4547-a07b-0417ed0f5917",
   "metadata": {},
   "outputs": [
    {
     "name": "stdout",
     "output_type": "stream",
     "text": [
      "Both x and y are within the specified range\n"
     ]
    }
   ],
   "source": [
    "# 5. Python Logical Operators\n",
    "#Python logical operators are used to compose Boolean expressions and evaluate their truth values.\n",
    "#They are required for the creation of conditional statements as well as for managing the flow of execution in programs.\n",
    "#Python has three basic logical operators: AND, OR, and NOT.\n",
    "#Operator\tDescription\t Example\n",
    "#  and      Logical AND\t If both of the operands are true then the condition becomes true.\t(a and b) is true.\n",
    "#   or      Logical OR\t If any of the two operands is non-zero then the condition becomes true.\t(a or b) is true.\n",
    "#   not     Logical NOT\t Used to reverse the logical state of its operand\tNot(a and b) is false.\n",
    "\n",
    "x = 5\n",
    "y = 10\n",
    "if x > 3 and y < 15:\n",
    "  print(\"Both x and y are within the specified range\")"
   ]
  },
  {
   "cell_type": "code",
   "execution_count": 50,
   "id": "eec3b302-215e-4353-9572-e1c7261293d7",
   "metadata": {},
   "outputs": [
    {
     "name": "stdout",
     "output_type": "stream",
     "text": [
      "Yes, banana is a fruit!\n"
     ]
    }
   ],
   "source": [
    "# 6. Python Membership Operators\n",
    "#Python membership operators are used to determine whether or not a certain value occurs within a sequence.\n",
    "#They make it simple to determine the membership of elements in various Python data structures such as lists, tuples, sets, and strings.\n",
    "#Python has two primary membership operators: the in and not in operators.\n",
    "#Operator\t             Description                                                                                                        \tExample\n",
    "#  in\t           Evaluates to true if it finds a variable in the specified sequence and false otherwise.\t               x in y, here in results in a 1 if x is a member of sequence y.\n",
    "#  not in\t       Evaluates to true if it does not find a variable in the specified sequence and false otherwise.\t       x not in y, here not in results in a 1 if x is not a member of sequence y.\n",
    "\n",
    "fruits = [\"apple\", \"banana\", \"cherry\"]\n",
    "if \"banana\" in fruits:\n",
    "    print(\"Yes, banana is a fruit!\")\n",
    "else:\n",
    "    print(\"No, banana is not a fruit!\")"
   ]
  },
  {
   "cell_type": "code",
   "execution_count": 51,
   "id": "2d9bb83f-ac76-4d25-946d-851bb1a0296a",
   "metadata": {},
   "outputs": [
    {
     "name": "stdout",
     "output_type": "stream",
     "text": [
      "x and y are not the same object\n"
     ]
    }
   ],
   "source": [
    "# 7. Python Identity Operators\n",
    "#Python identity operators are used to compare two objects' memory addresses rather than their values.\n",
    "#f the two objects refer to the same memory address, they evaluate to True; otherwise, they evaluate to False.\n",
    "#Python includes two identity operators: the is and is not operators.\n",
    "#Operator\t                   Description\t                                                                                                                        Example\n",
    "#  is\t           Evaluates to true if the variables on either side of the operator point to the same object and false otherwise\tx is y, here are results in 1 if id(x) equals id(y)\n",
    "#  is not\t      Evaluates to false if the variables on either side of the operator point to the same object and true otherwise\tx is not y, there are no results in 1 if id(x) is not equal to id(y).\n",
    "\n",
    "x = 10\n",
    "y = 5\n",
    "if x is y:\n",
    "    print(\"x and y are the same object\")\n",
    "else:\n",
    "    print(\"x and y are not the same object\")"
   ]
  },
  {
   "cell_type": "code",
   "execution_count": 52,
   "id": "e18be406-f50d-4c4d-bbef-b02238d39977",
   "metadata": {},
   "outputs": [
    {
     "name": "stdout",
     "output_type": "stream",
     "text": [
      "<class 'int'>\n",
      "<class 'float'>\n",
      "10.0\n",
      "<class 'float'>\n",
      "21.0\n",
      "<class 'float'>\n"
     ]
    }
   ],
   "source": [
    "#Question_no.5: Explain the concept of type casting in Python with examples.\n",
    "\n",
    "#Answer: Type Casting is the method to convert the Python variable datatype into a certain data type in order to perform the required operation by users. In this article, we will see the various techniques for typecasting. There can be two types of Type Casting in Python:\n",
    "\n",
    "# 1. Python Implicit Type Conversion\n",
    "#In this, method, Python converts the datatype into another datatype automatically. Users don’t have to involve in this process.\n",
    "\n",
    "# 2. Python Explicit Type Conversion\n",
    "#In this method, Python needs user involvement to convert the variable data type into the required data type. \n",
    "\n",
    "#Examples of Type Casting in Python\n",
    "#Mainly type casting can be done with these data type functions:\n",
    "\n",
    "# Int(): Python Int() function take float or string as an argument and returns int type object.\n",
    "# float(): Python float() function take int or string as an argument and return float type object.\n",
    "# str(): Python str() function takes float or int as an argument and returns string type object.\n",
    "\n",
    "# 1. Examples Of Python Implicit Type Conversion\n",
    "# Python program to demonstrate \n",
    "# implicit type Casting \n",
    "\n",
    "# Python automatically converts \n",
    "# a to int \n",
    "a = 7\n",
    "print(type(a)) \n",
    "\n",
    "# Python automatically converts \n",
    "# b to float \n",
    "b = 3.0\n",
    "print(type(b)) \n",
    "\n",
    "# Python automatically converts \n",
    "# c to float as it is a float addition \n",
    "c = a + b \n",
    "print(c) \n",
    "print(type(c))\n",
    "\n",
    "# Python automatically converts \n",
    "# d to float as it is a float multiplication\n",
    "d = a * b\n",
    "print(d)\n",
    "print(type(d))"
   ]
  },
  {
   "cell_type": "code",
   "execution_count": 1,
   "id": "530793d5-8c09-412e-ae56-a5889c3d85d8",
   "metadata": {},
   "outputs": [
    {
     "name": "stdout",
     "output_type": "stream",
     "text": [
      "57.0\n"
     ]
    }
   ],
   "source": [
    "# 2. Examples Of Python Explicit Type Conversion\n",
    "# Python program to demonstrate \n",
    "# type Casting \n",
    "# int to float\n",
    "f = 57\n",
    "print(float(f))\n"
   ]
  },
  {
   "cell_type": "code",
   "execution_count": 2,
   "id": "08f1ada5-1b8c-46ed-bed2-07cbf981e142",
   "metadata": {},
   "outputs": [
    {
     "name": "stdout",
     "output_type": "stream",
     "text": [
      "5\n",
      "<class 'int'>\n"
     ]
    }
   ],
   "source": [
    "# Python Convert Float to Int \n",
    "# Python program to demonstrate \n",
    "# type Casting \n",
    "\n",
    "# int variable\n",
    "a = 5.9\n",
    "\n",
    "# typecast to int\n",
    "n = int(a)\n",
    "\n",
    "print(n)\n",
    "print(type(n))\n"
   ]
  },
  {
   "cell_type": "code",
   "execution_count": 3,
   "id": "b4f9cbcb-495d-49fa-8229-66705fd0cd2b",
   "metadata": {},
   "outputs": [
    {
     "name": "stdout",
     "output_type": "stream",
     "text": [
      "5.9\n",
      "<class 'float'>\n"
     ]
    }
   ],
   "source": [
    "# Python Convert String to float\n",
    "# Python program to demonstrate \n",
    "# type Casting \n",
    "\n",
    "# string variable\n",
    "a = \"5.9\"\n",
    "\n",
    "# typecast to float\n",
    "n = float(a)\n",
    "\n",
    "print(n)\n",
    "print(type(n))"
   ]
  },
  {
   "cell_type": "code",
   "execution_count": 3,
   "id": "8d991eb5-4474-4a20-9003-0b47bd010fb6",
   "metadata": {},
   "outputs": [
    {
     "name": "stdout",
     "output_type": "stream",
     "text": [
      "5\n",
      "<class 'int'>\n"
     ]
    }
   ],
   "source": [
    "# Python Convert string to int\n",
    "# string variable\n",
    "a = \"5\"\n",
    "b = 't'\n",
    "\n",
    "# typecast to int\n",
    "n = int(a)\n",
    "\n",
    "print(n)\n",
    "print(type(n))"
   ]
  },
  {
   "cell_type": "code",
   "execution_count": 4,
   "id": "8bf4a5fc-d22d-4ef9-a934-cc9357e79b21",
   "metadata": {},
   "outputs": [
    {
     "name": "stdout",
     "output_type": "stream",
     "text": [
      "10 greater than 5\n",
      "Program ended\n"
     ]
    }
   ],
   "source": [
    "#Question_no.6:  How do conditional statements work in Python? Illustrate with examples.\n",
    "\n",
    "#Answer: Conditional Statements are statements in Python that provide a choice for the control flow based on a condition.\n",
    "#It means that the control flow of the Python program will be decided based on the outcome of the condition. Now let us see how Conditional Statements are implemented in Python.\n",
    "\n",
    "#Types of Conditional Statements in Python\n",
    "\n",
    "# 1. If Conditional Statement in Python\n",
    "# 2. If else Conditional Statements in Python\n",
    "# 3. Nested if..else Conditional Statements in Python\n",
    "# 4. If-elif-else Conditional Statements in Python\n",
    "\n",
    "# 1. Examples Of If Conditional Statement in Python\n",
    "# if statement example\n",
    "if 10 > 5:\n",
    "    print(\"10 greater than 5\")\n",
    "\n",
    "print(\"Program ended\")"
   ]
  },
  {
   "cell_type": "code",
   "execution_count": 5,
   "id": "2fc92945-da02-4bcc-b74b-a7e90a487b3e",
   "metadata": {},
   "outputs": [
    {
     "name": "stdout",
     "output_type": "stream",
     "text": [
      "No\n"
     ]
    }
   ],
   "source": [
    "# 2. Examples Of If else Conditional Statements in Python\n",
    "# if..else statement example\n",
    "x = 3\n",
    "if x == 4:\n",
    "    print(\"Yes\")\n",
    "else:\n",
    "    print(\"No\")"
   ]
  },
  {
   "cell_type": "code",
   "execution_count": 6,
   "id": "2950cae2-662b-447e-bfb2-f10952c08dc8",
   "metadata": {},
   "outputs": [
    {
     "name": "stdout",
     "output_type": "stream",
     "text": [
      "letter is A\n"
     ]
    }
   ],
   "source": [
    "# 3. Examples Of Nested if..else Conditional Statements in Python\n",
    "# if..else chain statement\n",
    "letter = \"A\"\n",
    "\n",
    "if letter == \"B\":\n",
    "    print(\"letter is B\")\n",
    "\n",
    "else:\n",
    "\n",
    "    if letter == \"C\":\n",
    "        print(\"letter is C\")\n",
    "\n",
    "    else:\n",
    "\n",
    "        if letter == \"A\":\n",
    "            print(\"letter is A\")\n",
    "\n",
    "        else:\n",
    "            print(\"letter isn't A, B and C\")"
   ]
  },
  {
   "cell_type": "code",
   "execution_count": 7,
   "id": "fbf1bea1-93ce-4eff-abda-4da3a9ef4d6a",
   "metadata": {},
   "outputs": [
    {
     "name": "stdout",
     "output_type": "stream",
     "text": [
      "letter is A\n"
     ]
    }
   ],
   "source": [
    "# 4. Examples Of If-elif-else Conditional Statements in Python\n",
    "# if-elif statement example\n",
    "letter = \"A\"\n",
    "\n",
    "if letter == \"B\":\n",
    "    print(\"letter is B\")\n",
    "\n",
    "elif letter == \"C\":\n",
    "    print(\"letter is C\")\n",
    "\n",
    "elif letter == \"A\":\n",
    "    print(\"letter is A\")\n",
    "\n",
    "else:\n",
    "    print(\"letter isn't A, B or C\")"
   ]
  },
  {
   "cell_type": "code",
   "execution_count": 2,
   "id": "801be60d-d3f7-4f5a-ac7b-312f5d3164dd",
   "metadata": {},
   "outputs": [
    {
     "name": "stdout",
     "output_type": "stream",
     "text": [
      "1\n",
      "2\n",
      "3\n",
      "4\n",
      "5\n"
     ]
    }
   ],
   "source": [
    "#Question_no.7: Describe the different types of loops in Python and their use cases with examples.\n",
    "\n",
    "#Answer: Different Types of Loops in Python\n",
    "#To understand the Loop Structures in Python, you need to know that there are 3 Types of Loops in Python, those are:\n",
    "\n",
    "# 1. Python while loop\n",
    "# 2. Python for loop\n",
    "# 3. Python nested loop\n",
    "\n",
    "\n",
    "#1. Python while loop\n",
    "#In Python, a while loop is a control flow statement that allows you to execute a block of code repeatedly while a given condition is true.\n",
    "#The condition is evaluated at the start of each loop iteration, and if it is true, the loop body is executed.\n",
    "#The loop is terminated if the condition is false.\n",
    "\n",
    "#2. Python for loop\n",
    "#A for loop is a control flow statement in Python that allows you to iterate over a sequence of elements such as a list, tuple, or string.\n",
    "#On each iteration, the loop variable in Python will take on the value of the next item in the sequence.\n",
    "\n",
    "#3. Python Nested loop\n",
    "#In Python, a nested loop is a loop that is contained within another loop.\n",
    "#This indicates that the inner loop is executed within each outer loop iteration.\n",
    "#Nested loops are handy for iterating over a two-dimensional array or processing hierarchical data.\n",
    "\n",
    "# 1.Example of Python while loop\n",
    "i = 1\n",
    "while i < 6:\n",
    "    print(i)\n",
    "    i += 1\n",
    "\n"
   ]
  },
  {
   "cell_type": "code",
   "execution_count": 3,
   "id": "5896c7b9-136e-403b-b4de-2596528a0088",
   "metadata": {},
   "outputs": [
    {
     "name": "stdout",
     "output_type": "stream",
     "text": [
      "Current Letter : P\n",
      "Current Letter : y\n",
      "Current Letter : t\n",
      "Current Letter : h\n",
      "Current Letter : o\n",
      "Current Letter : n\n",
      "Current fruit : guava\n",
      "Current fruit : apple\n",
      "Current fruit : mango\n",
      "Good bye!\n"
     ]
    }
   ],
   "source": [
    "# 2.Example of Python for loop\n",
    "for letter in 'Python': # First Example\n",
    "     print ('Current Letter :', letter)\n",
    "fruits = ['guava', 'apple', 'mango']\n",
    "for fruit in fruits: # Second Example\n",
    "    print ('Current fruit :', fruit)\n",
    "print (\"Good bye!\")"
   ]
  },
  {
   "cell_type": "code",
   "execution_count": null,
   "id": "a760c640-9bdc-424a-8623-b22e8f288ebe",
   "metadata": {},
   "outputs": [
    {
     "name": "stdout",
     "output_type": "stream",
     "text": [
      "2  is prime\n",
      "3  is prime\n",
      "4  is prime\n"
     ]
    }
   ],
   "source": [
    "# 3.Example of Python Nested Loop\n",
    "i = 2\n",
    "while(i < 100):\n",
    "    j = 2\n",
    "    while(j <= (i/j)):\n",
    "        if not(i%j): break\n",
    "    j = j + 1\n",
    "    if (j > i/j) : print (i, \" is prime\")\n",
    "    i = i + 1\n",
    "print (\"Good bye!\")"
   ]
  },
  {
   "cell_type": "code",
   "execution_count": 10,
   "id": "509989bd-696b-4716-9946-f379b8483f76",
   "metadata": {},
   "outputs": [
    {
     "name": "stdout",
     "output_type": "stream",
     "text": [
      "0\n",
      "1\n",
      "2\n",
      "3\n",
      "4\n"
     ]
    }
   ],
   "source": [
    "#Loop Control Statements in Python\n",
    "#In Python, loop control statements are used to alter the regular flow of a loop. They enable you to skip iterations, end the loop early, or do nothing at all. Python's main three loop control statements are:\n",
    "#Break\n",
    "#Continue\n",
    "#Pass\n",
    "# 1. Break\n",
    "#The break statement is used to quickly stop the loop regardless of whether the loop condition is still true. This signifies that the loop will be terminated and the next statement outside of the loop will be executed.\n",
    "#Example of Break Statement \n",
    "for i in range(10):\n",
    "  if i == 5:\n",
    "    break\n",
    "  print(i)"
   ]
  },
  {
   "cell_type": "code",
   "execution_count": 11,
   "id": "5f5d5d5b-7dcf-4e9b-a442-f6bf6d05b7ae",
   "metadata": {},
   "outputs": [
    {
     "name": "stdout",
     "output_type": "stream",
     "text": [
      "1\n",
      "3\n",
      "5\n",
      "7\n",
      "9\n"
     ]
    }
   ],
   "source": [
    "#2. Continue\n",
    "#The continue statement is used to skip the current loop iteration and go to the next iteration. This implies that the code from the current iteration will not be performed, and the loop will continue to iterate until the loop condition is satisfied.\n",
    "#Example of Continue Statement\n",
    "for i in range(10):\n",
    "  if i % 2 == 0:\n",
    "    continue\n",
    "  print(i)"
   ]
  },
  {
   "cell_type": "code",
   "execution_count": 12,
   "id": "cb6b819e-fa57-4843-8b44-24d1a9d133f6",
   "metadata": {},
   "outputs": [],
   "source": [
    "#3. Pass\n",
    "#The pass statement is a null statement that has no effect. It can be utilized as a placeholder in control statements or empty loops.\n",
    "#Example of Pass Statement\n",
    "for i in range(10):\n",
    "  # Do nothing\n",
    "  pass"
   ]
  },
  {
   "cell_type": "code",
   "execution_count": null,
   "id": "d433411d-f5a8-494a-914e-60e5b2bb19d9",
   "metadata": {},
   "outputs": [],
   "source": []
  }
 ],
 "metadata": {
  "kernelspec": {
   "display_name": "Python 3 (ipykernel)",
   "language": "python",
   "name": "python3"
  },
  "language_info": {
   "codemirror_mode": {
    "name": "ipython",
    "version": 3
   },
   "file_extension": ".py",
   "mimetype": "text/x-python",
   "name": "python",
   "nbconvert_exporter": "python",
   "pygments_lexer": "ipython3",
   "version": "3.10.8"
  }
 },
 "nbformat": 4,
 "nbformat_minor": 5
}
